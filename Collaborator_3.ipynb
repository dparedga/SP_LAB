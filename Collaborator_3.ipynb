{
 "cells": [
  {
   "cell_type": "markdown",
   "metadata": {},
   "source": [
    "# Task for Collaborator #3\n",
    "\n",
    "• Look for correlations between the variables related to the fundamental frequency ('MDVP:Fo(Hz)', 'MDVP:Fhi(Hz)’ and MDVP:Flo(Hz) in the original dataframe) using the scat_plot function. Use the scat_plot function created by your collaborators for this purpose. If the variables are correlated keep only a subset that are representative (one or some of them). Discard the others by removing them from the dataframe. Do the same for the variables related to Jitter ('MDVP:Jitter(Abs)', 'MDVP:RAP', 'MDVP:PPQ', 'Jitter:DDP') and Shimmer ( 'MDVP:Shimmer', 'MDVP:Shimmer(dB)', 'Shimmer:APQ3', 'Shimmer:APQ5', 'MDVP:APQ', 'Shimmer:DDA',). Name this dataframe as cleaned_df and work with it from here on.\n",
    "\n",
    "• Function group_and_average(df, gv) This function averages all variables on a given dataframe by aggregating them according to the variable gv. You can use the group_by operation from pandas. The function returns the averaged and aggregated dataframe. Inputs: df: a dataframe gv: the name of the grouping variable Outputs: av_df: averaged df\n",
    "\n",
    "• Implement the instructions in the main code to classify the DataFrame data into patients or controls using k-nearest neighbors with k=3. Compare the outcomes across three scenarios: 1) utilizing cleaned and aggregated data, 2) cleaned, aggregated, and z-score normalized data, and lastly, 3 the same, but normalized using the min-max option. Are there differences?"
   ]
  },
  {
   "cell_type": "markdown",
   "metadata": {},
   "source": []
  }
 ],
 "metadata": {
  "language_info": {
   "name": "python"
  }
 },
 "nbformat": 4,
 "nbformat_minor": 2
}
