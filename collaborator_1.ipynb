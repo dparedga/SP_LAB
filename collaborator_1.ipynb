import pandas as pd
import matplotlib.pyplot as plt
from itertools import *

df = pd.read_csv('parkinsons.data', 
                 dtype = { # indicate categorical variables
                     'status': 'category'})
df.head(5)


dict_names = {'MDVP:Fhi(Hz)':'maxFF', 
              'MDVP:Flo(Hz)':'minFF',
              'MDVP:Jitter(%)': 'percJitter',
              'MDVP:Jitter(Abs)':'absJitter' ,
              'MDVP:RAP': 'rap',
              'MDVP:PPQ': 'ppq',
              'Jitter:DDP': 'ddp',
              'MDVP:Shimmer' : 'lShimer',
              'MDVP:Shimmer(dB)': 'dbShimer',
              'Shimmer:APQ3':'apq3',
              'Shimmer:APQ5': 'apq5',
              'MDVP:APQ':'apq',
              'MDVP:Fo(Hz)':'avFF',
              'Shimmer:DDA':'dda'}

# TASK 1
def renamevars(df, dict_names):
    df.rename(columns = dict_names, inplace = True)
    renamed_df = df
    return renamed_df

renamed_df = renamevars(df, dict_names)
renamed_df.head(5)

# TASK 2 
def calculate_correlation(df):
    # Select numerical columns only
    numerical_df = df.select_dtypes(include='number')

    # Drop columns with all NaN values
    numerical_df = numerical_df.dropna(axis=1, how='all')

    # Create an empty DataFrame to store correlation coefficients
    correlation_df = pd.DataFrame(index=numerical_df.columns, columns=numerical_df.columns)

    # Calculate correlation coefficients including self-correlation
    for col1, col2 in product(numerical_df.columns, repeat=2):
        correlation_coefficient = numerical_df[col1].corr(numerical_df[col2])
        correlation_df.loc[col1, col2] = correlation_coefficient

    return correlation_df

def plot_scatter(df, col1, col2, corr):
    plt.scatter(df[col1], df[col2])
    plt.xlabel(col1)
    plt.ylabel(col2)
    plt.title(f'Corr {corr} of: {col1} vs {col2}')
    plt.show()

def visualize_high_correlation(correlation_df, threshold):
    high_corr_pairs = []

    for col1 in correlation_df.columns:
        for col2 in correlation_df.index:
            correlation_coefficient = correlation_df.loc[col1, col2]
            if abs(correlation_coefficient) > threshold and col1 != col2 and ((col1, col2) not in high_corr_pairs and (col2, col1) not in high_corr_pairs): # Only adding those instances that havn't been already introduced, but in a different column order
                high_corr_pairs.append((col1, col2))
                plot_scatter(df, col1, col2, correlation_coefficient)

    return high_corr_pairs

correlation_df = calculate_correlation(renamed_df)
correlation_df.head()

high_corr_pairs = visualize_high_correlation(correlation_df, 0.95)
high_corr_pairs
